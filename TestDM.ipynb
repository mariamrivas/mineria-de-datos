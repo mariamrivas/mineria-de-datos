{
 "cells": [
  {
   "cell_type": "markdown",
   "id": "3462f2c2",
   "metadata": {},
   "source": [
    "LIBRERÍA PANDAS: \n",
    "Pandas es una librería de Python que es utilizada para manejar y analizar las estructuras de los datos. Además con esta libreria se puede leer y escribir archivos en formato CSV, Excel y bases de datos SQL. Para tener un acceso de los datos se lo realiza con índices tanto para las filas como las columnas."
   ]
  },
  {
   "cell_type": "code",
   "execution_count": 10,
   "id": "380de734",
   "metadata": {},
   "outputs": [],
   "source": [
    "#importación de la libreria \n",
    "import pandas as pd "
   ]
  },
  {
   "cell_type": "code",
   "execution_count": 14,
   "id": "e0ea6281",
   "metadata": {},
   "outputs": [
    {
     "data": {
      "text/html": [
       "<div>\n",
       "<style scoped>\n",
       "    .dataframe tbody tr th:only-of-type {\n",
       "        vertical-align: middle;\n",
       "    }\n",
       "\n",
       "    .dataframe tbody tr th {\n",
       "        vertical-align: top;\n",
       "    }\n",
       "\n",
       "    .dataframe thead th {\n",
       "        text-align: right;\n",
       "    }\n",
       "</style>\n",
       "<table border=\"1\" class=\"dataframe\">\n",
       "  <thead>\n",
       "    <tr style=\"text-align: right;\">\n",
       "      <th></th>\n",
       "      <th>Animal ID</th>\n",
       "      <th>Name</th>\n",
       "      <th>DateTime</th>\n",
       "      <th>MonthYear</th>\n",
       "      <th>Date of Birth</th>\n",
       "      <th>Outcome Type</th>\n",
       "      <th>Outcome Subtype</th>\n",
       "      <th>Animal Type</th>\n",
       "      <th>Sex upon Outcome</th>\n",
       "      <th>Age upon Outcome</th>\n",
       "      <th>Breed</th>\n",
       "      <th>Color</th>\n",
       "    </tr>\n",
       "  </thead>\n",
       "  <tbody>\n",
       "    <tr>\n",
       "      <th>0</th>\n",
       "      <td>A771830</td>\n",
       "      <td>*Bradley</td>\n",
       "      <td>12/27/2018 01:25:00 PM</td>\n",
       "      <td>12/27/2018 01:25:00 PM</td>\n",
       "      <td>05/10/2017</td>\n",
       "      <td>Adoption</td>\n",
       "      <td>Foster</td>\n",
       "      <td>Dog</td>\n",
       "      <td>Neutered Male</td>\n",
       "      <td>1 year</td>\n",
       "      <td>Pit Bull Mix</td>\n",
       "      <td>White/Blue</td>\n",
       "    </tr>\n",
       "    <tr>\n",
       "      <th>1</th>\n",
       "      <td>A779576</td>\n",
       "      <td>*Rajah</td>\n",
       "      <td>10/01/2018 05:03:00 PM</td>\n",
       "      <td>10/01/2018 05:03:00 PM</td>\n",
       "      <td>04/18/2018</td>\n",
       "      <td>Adoption</td>\n",
       "      <td>NaN</td>\n",
       "      <td>Cat</td>\n",
       "      <td>Neutered Male</td>\n",
       "      <td>5 months</td>\n",
       "      <td>Domestic Shorthair Mix</td>\n",
       "      <td>Brown Tabby</td>\n",
       "    </tr>\n",
       "    <tr>\n",
       "      <th>2</th>\n",
       "      <td>A741715</td>\n",
       "      <td>*Pebbles</td>\n",
       "      <td>01/11/2017 06:17:00 PM</td>\n",
       "      <td>01/11/2017 06:17:00 PM</td>\n",
       "      <td>03/07/2016</td>\n",
       "      <td>Adoption</td>\n",
       "      <td>NaN</td>\n",
       "      <td>Cat</td>\n",
       "      <td>Spayed Female</td>\n",
       "      <td>10 months</td>\n",
       "      <td>Domestic Shorthair Mix</td>\n",
       "      <td>Calico</td>\n",
       "    </tr>\n",
       "    <tr>\n",
       "      <th>3</th>\n",
       "      <td>A658751</td>\n",
       "      <td>Benji</td>\n",
       "      <td>11/13/2016 01:38:00 PM</td>\n",
       "      <td>11/13/2016 01:38:00 PM</td>\n",
       "      <td>07/14/2011</td>\n",
       "      <td>Return to Owner</td>\n",
       "      <td>NaN</td>\n",
       "      <td>Dog</td>\n",
       "      <td>Neutered Male</td>\n",
       "      <td>5 years</td>\n",
       "      <td>Border Terrier Mix</td>\n",
       "      <td>Tan</td>\n",
       "    </tr>\n",
       "    <tr>\n",
       "      <th>4</th>\n",
       "      <td>A721285</td>\n",
       "      <td>NaN</td>\n",
       "      <td>02/24/2016 02:42:00 PM</td>\n",
       "      <td>02/24/2016 02:42:00 PM</td>\n",
       "      <td>02/24/2014</td>\n",
       "      <td>Euthanasia</td>\n",
       "      <td>Suffering</td>\n",
       "      <td>Other</td>\n",
       "      <td>Unknown</td>\n",
       "      <td>2 years</td>\n",
       "      <td>Raccoon Mix</td>\n",
       "      <td>Black/Gray</td>\n",
       "    </tr>\n",
       "  </tbody>\n",
       "</table>\n",
       "</div>"
      ],
      "text/plain": [
       "  Animal ID      Name                DateTime               MonthYear  \\\n",
       "0   A771830  *Bradley  12/27/2018 01:25:00 PM  12/27/2018 01:25:00 PM   \n",
       "1   A779576    *Rajah  10/01/2018 05:03:00 PM  10/01/2018 05:03:00 PM   \n",
       "2   A741715  *Pebbles  01/11/2017 06:17:00 PM  01/11/2017 06:17:00 PM   \n",
       "3   A658751     Benji  11/13/2016 01:38:00 PM  11/13/2016 01:38:00 PM   \n",
       "4   A721285       NaN  02/24/2016 02:42:00 PM  02/24/2016 02:42:00 PM   \n",
       "\n",
       "  Date of Birth     Outcome Type Outcome Subtype Animal Type Sex upon Outcome  \\\n",
       "0    05/10/2017         Adoption          Foster         Dog    Neutered Male   \n",
       "1    04/18/2018         Adoption             NaN         Cat    Neutered Male   \n",
       "2    03/07/2016         Adoption             NaN         Cat    Spayed Female   \n",
       "3    07/14/2011  Return to Owner             NaN         Dog    Neutered Male   \n",
       "4    02/24/2014       Euthanasia       Suffering       Other          Unknown   \n",
       "\n",
       "  Age upon Outcome                   Breed        Color  \n",
       "0           1 year            Pit Bull Mix   White/Blue  \n",
       "1         5 months  Domestic Shorthair Mix  Brown Tabby  \n",
       "2        10 months  Domestic Shorthair Mix       Calico  \n",
       "3          5 years      Border Terrier Mix          Tan  \n",
       "4          2 years             Raccoon Mix   Black/Gray  "
      ]
     },
     "execution_count": 14,
     "metadata": {},
     "output_type": "execute_result"
    }
   ],
   "source": [
    "#Leer el archivo csv\n",
    "df = pd.read_csv('https://query.data.world/s/d5ko4ixgkjvj5xbxdlemp2fjqquof4')\n",
    "df.head()"
   ]
  },
  {
   "cell_type": "code",
   "execution_count": 15,
   "id": "13671010",
   "metadata": {
    "scrolled": true
   },
   "outputs": [
    {
     "name": "stdout",
     "output_type": "stream",
     "text": [
      "               Name                DateTime               MonthYear  \\\n",
      "Animal ID                                                             \n",
      "A771830    *Bradley  12/27/2018 01:25:00 PM  12/27/2018 01:25:00 PM   \n",
      "A779576      *Rajah  10/01/2018 05:03:00 PM  10/01/2018 05:03:00 PM   \n",
      "A741715    *Pebbles  01/11/2017 06:17:00 PM  01/11/2017 06:17:00 PM   \n",
      "A658751       Benji  11/13/2016 01:38:00 PM  11/13/2016 01:38:00 PM   \n",
      "A721285         NaN  02/24/2016 02:42:00 PM  02/24/2016 02:42:00 PM   \n",
      "...             ...                     ...                     ...   \n",
      "A788329        Bane  01/31/2019 03:27:00 PM  01/31/2019 03:27:00 PM   \n",
      "A788087    Midnight  01/26/2019 06:06:00 PM  01/26/2019 06:06:00 PM   \n",
      "A759491     Charlie  01/31/2019 04:17:00 PM  01/31/2019 04:17:00 PM   \n",
      "A722968     Glacier  01/31/2019 04:59:00 PM  01/31/2019 04:59:00 PM   \n",
      "A780441      Junior  01/31/2019 04:14:00 PM  01/31/2019 04:14:00 PM   \n",
      "\n",
      "          Date of Birth     Outcome Type Outcome Subtype Animal Type  \\\n",
      "Animal ID                                                              \n",
      "A771830      05/10/2017         Adoption          Foster         Dog   \n",
      "A779576      04/18/2018         Adoption             NaN         Cat   \n",
      "A741715      03/07/2016         Adoption             NaN         Cat   \n",
      "A658751      07/14/2011  Return to Owner             NaN         Dog   \n",
      "A721285      02/24/2014       Euthanasia       Suffering       Other   \n",
      "...                 ...              ...             ...         ...   \n",
      "A788329      09/07/2017  Return to Owner             NaN         Dog   \n",
      "A788087      05/26/2018  Return to Owner             NaN         Dog   \n",
      "A759491      10/03/2012  Return to Owner             NaN         Dog   \n",
      "A722968      03/24/2015         Adoption             NaN         Cat   \n",
      "A780441      09/15/2016       Euthanasia      Aggressive         Dog   \n",
      "\n",
      "          Sex upon Outcome Age upon Outcome                   Breed  \\\n",
      "Animal ID                                                             \n",
      "A771830      Neutered Male           1 year            Pit Bull Mix   \n",
      "A779576      Neutered Male         5 months  Domestic Shorthair Mix   \n",
      "A741715      Spayed Female        10 months  Domestic Shorthair Mix   \n",
      "A658751      Neutered Male          5 years      Border Terrier Mix   \n",
      "A721285            Unknown          2 years             Raccoon Mix   \n",
      "...                    ...              ...                     ...   \n",
      "A788329        Intact Male           1 year     Doberman Pinsch Mix   \n",
      "A788087      Intact Female         8 months     German Shepherd Mix   \n",
      "A759491      Neutered Male          6 years                 Pug Mix   \n",
      "A722968      Neutered Male          3 years             Siamese Mix   \n",
      "A780441      Neutered Male          2 years            Pit Bull Mix   \n",
      "\n",
      "                 Color  \n",
      "Animal ID               \n",
      "A771830     White/Blue  \n",
      "A779576    Brown Tabby  \n",
      "A741715         Calico  \n",
      "A658751            Tan  \n",
      "A721285     Black/Gray  \n",
      "...                ...  \n",
      "A788329    Black/Brown  \n",
      "A788087          Black  \n",
      "A759491      Tan/Black  \n",
      "A722968     Seal Point  \n",
      "A780441     Brown/Fawn  \n",
      "\n",
      "[95367 rows x 11 columns]\n"
     ]
    }
   ],
   "source": [
    "#Realización de un DataFrame con los datos del archivo\n",
    "mascotas = pd.read_csv('https://query.data.world/s/d5ko4ixgkjvj5xbxdlemp2fjqquof4', index_col=0)\n",
    "print(mascotas)"
   ]
  },
  {
   "cell_type": "code",
   "execution_count": 16,
   "id": "a24e4c1c",
   "metadata": {},
   "outputs": [
    {
     "name": "stdout",
     "output_type": "stream",
     "text": [
      "Dimensiones: (95367, 11)\n",
      "Número de elementos: 1049037\n"
     ]
    }
   ],
   "source": [
    "#Mostrar en pantalla las dimensiones y el número de datos que tiene el archivo \n",
    "print('Dimensiones:', mascotas.shape)\n",
    "print('Número de elementos:', mascotas.size)\n"
   ]
  },
  {
   "cell_type": "code",
   "execution_count": 19,
   "id": "34d3843f",
   "metadata": {},
   "outputs": [
    {
     "name": "stdout",
     "output_type": "stream",
     "text": [
      "                   Name                DateTime               MonthYear  \\\n",
      "Animal ID                                                                 \n",
      "A771830        *Bradley  12/27/2018 01:25:00 PM  12/27/2018 01:25:00 PM   \n",
      "A741715        *Pebbles  01/11/2017 06:17:00 PM  01/11/2017 06:17:00 PM   \n",
      "A721285             NaN  02/24/2016 02:42:00 PM  02/24/2016 02:42:00 PM   \n",
      "A750122    Happy Camper  05/24/2017 06:36:00 PM  05/24/2017 06:36:00 PM   \n",
      "A784168             NaN  11/14/2018 12:33:00 PM  11/14/2018 12:33:00 PM   \n",
      "...                 ...                     ...                     ...   \n",
      "A787788           *Jeff  01/31/2019 02:34:00 PM  01/31/2019 02:34:00 PM   \n",
      "A784715           *Mutt  01/31/2019 02:33:00 PM  01/31/2019 02:33:00 PM   \n",
      "A788329            Bane  01/31/2019 03:27:00 PM  01/31/2019 03:27:00 PM   \n",
      "A759491         Charlie  01/31/2019 04:17:00 PM  01/31/2019 04:17:00 PM   \n",
      "A780441          Junior  01/31/2019 04:14:00 PM  01/31/2019 04:14:00 PM   \n",
      "\n",
      "          Date of Birth     Outcome Type Outcome Subtype Animal Type  \\\n",
      "Animal ID                                                              \n",
      "A771830      05/10/2017         Adoption          Foster         Dog   \n",
      "A741715      03/07/2016         Adoption             NaN         Cat   \n",
      "A721285      02/24/2014       Euthanasia       Suffering       Other   \n",
      "A750122      04/08/2017         Transfer         Partner         Dog   \n",
      "A784168      03/12/2018         Transfer         Partner         Dog   \n",
      "...                 ...              ...             ...         ...   \n",
      "A787788      09/19/2018         Transfer         Partner         Dog   \n",
      "A784715      09/19/2018         Transfer         Partner         Dog   \n",
      "A788329      09/07/2017  Return to Owner             NaN         Dog   \n",
      "A759491      10/03/2012  Return to Owner             NaN         Dog   \n",
      "A780441      09/15/2016       Euthanasia      Aggressive         Dog   \n",
      "\n",
      "          Sex upon Outcome Age upon Outcome                         Breed  \\\n",
      "Animal ID                                                                   \n",
      "A771830      Neutered Male           1 year                  Pit Bull Mix   \n",
      "A741715      Spayed Female        10 months        Domestic Shorthair Mix   \n",
      "A721285            Unknown          2 years                   Raccoon Mix   \n",
      "A750122        Intact Male          1 month        Labrador Retriever Mix   \n",
      "A784168        Intact Male         8 months  English Springer Spaniel Mix   \n",
      "...                    ...              ...                           ...   \n",
      "A787788      Neutered Male         4 months             Staffordshire Mix   \n",
      "A784715      Neutered Male         4 months       Border Collie/Catahoula   \n",
      "A788329        Intact Male           1 year           Doberman Pinsch Mix   \n",
      "A759491      Neutered Male          6 years                       Pug Mix   \n",
      "A780441      Neutered Male          2 years                  Pit Bull Mix   \n",
      "\n",
      "                 Color  \n",
      "Animal ID               \n",
      "A771830     White/Blue  \n",
      "A741715         Calico  \n",
      "A721285     Black/Gray  \n",
      "A750122          Black  \n",
      "A784168    Black/White  \n",
      "...                ...  \n",
      "A787788      Tan/White  \n",
      "A784715    Black/White  \n",
      "A788329    Black/Brown  \n",
      "A759491      Tan/Black  \n",
      "A780441     Brown/Fawn  \n",
      "\n",
      "[47684 rows x 11 columns]\n"
     ]
    }
   ],
   "source": [
    "#Mostrar en pantalla las filas pares del DataFrame\n",
    "print(mascotas.iloc[range(0,mascotas.shape[0],2)])"
   ]
  },
  {
   "cell_type": "markdown",
   "id": "8b0e58ab",
   "metadata": {},
   "source": []
  },
  {
   "cell_type": "markdown",
   "id": "74b99386",
   "metadata": {},
   "source": [
    "LIBRERÍA NUMPY:\n",
    "Numpy es usada para el cálculo numérico y para analizar datos, especialmente para un volumen de datos grande. \n",
    "Tiene estructuras de datos muy potentes. Numpy puede inplementar matrices y matrices multidimensionales.\n"
   ]
  },
  {
   "cell_type": "code",
   "execution_count": 27,
   "id": "5140c534",
   "metadata": {
    "scrolled": false
   },
   "outputs": [
    {
     "data": {
      "text/plain": [
       "'Animal ID,Name,DateTime,MonthYear,Date of Birth,Outcome Type,Outcome Subtype,Animal Type,Sex upon Outcome,Age upon Outcome,Breed,Color\\n'"
      ]
     },
     "execution_count": 27,
     "metadata": {},
     "output_type": "execute_result"
    }
   ],
   "source": [
    "#leer la primera linea del archivo csv\n",
    "import numpy as np\n",
    "archivo = open('austin-animal-center-outcomes-1.csv','r')\n",
    "archivo.readline()\n",
    "                  "
   ]
  },
  {
   "cell_type": "code",
   "execution_count": 77,
   "id": "4491e380",
   "metadata": {},
   "outputs": [
    {
     "name": "stdout",
     "output_type": "stream",
     "text": [
      "número de lineas = 95368\n"
     ]
    }
   ],
   "source": [
    "#Averiguar el número de lineas que tiene el archivo csv\n",
    "import numpy as np\n",
    "with open(\"./austin-animal-center-outcomes-1.csv\") as f:\n",
    "\n",
    "    n = len(list(f))\n",
    "print(\"número de lineas =\", n)\n"
   ]
  },
  {
   "cell_type": "code",
   "execution_count": 78,
   "id": "c5d64b87",
   "metadata": {},
   "outputs": [
    {
     "name": "stdout",
     "output_type": "stream",
     "text": [
      "número de columnas= 12\n"
     ]
    }
   ],
   "source": [
    "#Conocer el número de columnas que tiene el archivo csv\n",
    "import numpy as np\n",
    "with open(\"austin-animal-center-outcomes-1.csv\") as f:\n",
    "    \n",
    "    ncols = len(f.readline().split(','))\n",
    "    \n",
    "print (\"número de columnas=\", ncols)"
   ]
  },
  {
   "cell_type": "markdown",
   "id": "0e366479",
   "metadata": {},
   "source": [
    "\n"
   ]
  },
  {
   "cell_type": "markdown",
   "id": "684af796",
   "metadata": {},
   "source": [
    "LIBRERÍA MATPLOTLIB:\n",
    "Matplotlib es una librería que ayuda a realizar gráficos desde datos de lista. Esta librería produce figuras o gráficos\n",
    "de una buena calidad que pueden ser públicados en una variedad de formatos impresos y plataformas. Aquí se pueden realizar\n",
    "histogramas, espectros de potencia. gráficos de barras, pasteles, etc."
   ]
  },
  {
   "cell_type": "code",
   "execution_count": 18,
   "id": "5e3bd8af",
   "metadata": {},
   "outputs": [
    {
     "data": {
      "image/png": "[encoded data removed]",
      "text/plain": [
       "<Figure size 432x288 with 1 Axes>"
      ]
     },
     "metadata": {
      "needs_background": "light"
     },
     "output_type": "display_data"
    }
   ],
   "source": [
    "#Gráficar lineas verticales con los primeros 10 datos de la columnas AnimalID y Name.\n",
    "import pandas as pd\n",
    "import matplotlib.pyplot as plot\n",
    "\n",
    "datos = pd.read_csv('austin-animal-center-outcomes-1.csv').iloc[0:10, 0:2]\n",
    "\n",
    "for p in datos:\n",
    "\n",
    "    plot.axvline(p,  label='Columnas del Dataset')\n",
    "\n",
    "plot.legend()\n",
    "\n",
    "plot.show()\n",
    "\n"
   ]
  },
  {
   "cell_type": "code",
   "execution_count": 16,
   "id": "3778dd94",
   "metadata": {},
   "outputs": [
    {
     "data": {
      "text/plain": [
       "<AxesSubplot:title={'center':'Cantidades de animales según el tipo'}>"
      ]
     },
     "execution_count": 16,
     "metadata": {},
     "output_type": "execute_result"
    },
    {
     "data": {
      "image/png": "[encoded data removed]",
      "text/plain": [
       "<Figure size 432x288 with 1 Axes>"
      ]
     },
     "metadata": {
      "needs_background": "light"
     },
     "output_type": "display_data"
    }
   ],
   "source": [
    "#Gráfico de barras para poder visualizar la cantidad de los tipos de animales (Animal Type)\n",
    "import pandas as pd\n",
    "import matplotlib.pyplot as plot\n",
    "d = pd.read_csv('https://query.data.world/s/d5ko4ixgkjvj5xbxdlemp2fjqquof4', index_col=0)\n",
    "d['Animal Type'].value_counts().plot(kind='bar', title='Cantidades de animales según el tipo')\n"
   ]
  },
  {
   "cell_type": "code",
   "execution_count": 8,
   "id": "d55b323c",
   "metadata": {},
   "outputs": [
    {
     "data": {
      "text/plain": [
       "<AxesSubplot:title={'center':'Porcentaje de los animales según su tipo de resultado  '}, ylabel='Outcome Type'>"
      ]
     },
     "execution_count": 8,
     "metadata": {},
     "output_type": "execute_result"
    },
    {
     "data": {
      "image/png": "[encoded data removed]",
      "text/plain": [
       "<Figure size 432x288 with 1 Axes>"
      ]
     },
     "metadata": {},
     "output_type": "display_data"
    }
   ],
   "source": [
    "#Visualizar en un diagrama de pastel el porcentaje de los animales según su tipo de resultado (Outcome Type)\n",
    "import pandas as pd\n",
    "import matplotlib.pyplot as plot\n",
    "d = pd.read_csv('https://query.data.world/s/d5ko4ixgkjvj5xbxdlemp2fjqquof4', index_col=0)\n",
    "d['Outcome Type'].value_counts().plot(kind='pie', autopct='%.2f%%', title='Porcentaje de los animales según su tipo de resultado  ')\n"
   ]
  },
  {
   "cell_type": "markdown",
   "id": "f6ffdb42",
   "metadata": {},
   "source": [
    "LIBRERÍA SEABORN:\n",
    "Seaborn es una librería para poder visualizar los datos para Python. Esta librería trabaja con un paquete muy avanzado para que así se pueda crear dibujos más convenientes y de forma rápida. Es fácil de utilizar y hasta una persona sin experiencia puede realizar un gráfico sencillo con un código minímo."
   ]
  },
  {
   "cell_type": "code",
   "execution_count": 1,
   "id": "0ad4e590",
   "metadata": {},
   "outputs": [
    {
     "data": {
      "image/png": "[encoded data removed]",
      "text/plain": [
       "<Figure size 360x360 with 1 Axes>"
      ]
     },
     "metadata": {
      "needs_background": "light"
     },
     "output_type": "display_data"
    }
   ],
   "source": [
    "#Visualizar en un gráfico de barras la cantidad de los diferentes tipos de animales (Animal Type)\n",
    "import matplotlib.pyplot as plt\n",
    "import pandas as pd\n",
    "import numpy as np\n",
    "import seaborn as sns\n",
    "\n",
    "df = pd.read_csv('https://query.data.world/s/d5ko4ixgkjvj5xbxdlemp2fjqquof4')\n",
    "data = df['Animal Type']\n",
    "sns.displot(data)\n",
    "plt.show()"
   ]
  },
  {
   "cell_type": "code",
   "execution_count": 5,
   "id": "1166d543",
   "metadata": {},
   "outputs": [
    {
     "data": {
      "image/png": "[encoded data removed]",
      "text/plain": [
       "<Figure size 360x360 with 1 Axes>"
      ]
     },
     "metadata": {
      "needs_background": "light"
     },
     "output_type": "display_data"
    }
   ],
   "source": [
    "# Trazo de un diagrama KDE (Densidad de Kernel)\n",
    "import matplotlib.pyplot as plt\n",
    "import pandas as pd\n",
    "import numpy as np\n",
    "import seaborn as sns\n",
    "\n",
    "df = pd.read_csv('https://query.data.world/s/d5ko4ixgkjvj5xbxdlemp2fjqquof4')\n",
    "data = df['Animal Type']\n",
    "sns.displot(data, discrete = True, kde = True)\n",
    "plt.show()"
   ]
  },
  {
   "cell_type": "code",
   "execution_count": 6,
   "id": "b485f25c",
   "metadata": {},
   "outputs": [
    {
     "data": {
      "image/png": "[encoded data removed]",
      "text/plain": [
       "<Figure size 432x432 with 3 Axes>"
      ]
     },
     "metadata": {
      "needs_background": "light"
     },
     "output_type": "display_data"
    }
   ],
   "source": [
    "#Visualizar la parcela de distribución conjunta entre la columna Name y la Animal Type\n",
    "#Visualizar la distribución entre el Name y el Animal Type\n",
    "import matplotlib.pyplot as plt\n",
    "import pandas as pd\n",
    "import numpy as np\n",
    "import seaborn as sns\n",
    "\n",
    "df = pd.read_csv('https://query.data.world/s/d5ko4ixgkjvj5xbxdlemp2fjqquof4')\n",
    "df.dropna(inplace=True)\n",
    "sns.jointplot(x = \"Name\", y = \"Animal Type\", data = df)\n",
    "plt.show()"
   ]
  },
  {
   "cell_type": "code",
   "execution_count": null,
   "id": "a86ee419",
   "metadata": {},
   "outputs": [],
   "source": []
  },
  {
   "cell_type": "code",
   "execution_count": null,
   "id": "3a3bbb98",
   "metadata": {},
   "outputs": [],
   "source": []
  }
 ],
 "metadata": {
  "kernelspec": {
   "display_name": "Python 3",
   "language": "python",
   "name": "python3"
  },
  "language_info": {
   "codemirror_mode": {
    "name": "ipython",
    "version": 3
   },
   "file_extension": ".py",
   "mimetype": "text/x-python",
   "name": "python",
   "nbconvert_exporter": "python",
   "pygments_lexer": "ipython3",
   "version": "3.8.8"
  }
 },
 "nbformat": 4,
 "nbformat_minor": 5
}
